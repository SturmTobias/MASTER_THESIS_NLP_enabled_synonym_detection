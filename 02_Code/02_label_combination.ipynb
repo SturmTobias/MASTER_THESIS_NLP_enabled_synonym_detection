{
 "cells": [
  {
   "cell_type": "code",
   "execution_count": 1,
   "id": "e0b29a41-df39-4f0a-9b79-feef3c65f575",
   "metadata": {},
   "outputs": [],
   "source": [
    "import pandas as pd\n",
    "import csv\n",
    "import os"
   ]
  },
  {
   "cell_type": "code",
   "execution_count": 2,
   "id": "0336070e-6912-4199-8243-9e7a78d3a7fd",
   "metadata": {},
   "outputs": [],
   "source": [
    "path_csv = '/home/jupyter-sturm/datasets/Test_labels.csv'\n",
    "labels_csv = pd.read_csv(path_csv, sep=';')"
   ]
  },
  {
   "cell_type": "code",
   "execution_count": 3,
   "id": "2fead37b-b89e-4235-973e-0b538d86ac71",
   "metadata": {},
   "outputs": [],
   "source": [
    "labels_list = list(labels_csv['Activity labels'])"
   ]
  },
  {
   "cell_type": "code",
   "execution_count": 4,
   "id": "d33988f2-aada-4e37-b1dd-7a292b166996",
   "metadata": {},
   "outputs": [
    {
     "data": {
      "text/plain": [
       "587"
      ]
     },
     "execution_count": 4,
     "metadata": {},
     "output_type": "execute_result"
    }
   ],
   "source": [
    "len(labels_list)"
   ]
  },
  {
   "cell_type": "code",
   "execution_count": 5,
   "id": "ea4d0182-2434-4e6c-891b-9d73eba5f6c4",
   "metadata": {},
   "outputs": [],
   "source": [
    "from itertools import combinations\n",
    "A = [10, 5, 'Hi']\n",
    "combinations = list(combinations(labels_list, 2))\n"
   ]
  },
  {
   "cell_type": "code",
   "execution_count": 6,
   "id": "914963f2-4038-47ba-834e-65e3e3cea487",
   "metadata": {},
   "outputs": [
    {
     "data": {
      "text/plain": [
       "171991"
      ]
     },
     "execution_count": 6,
     "metadata": {},
     "output_type": "execute_result"
    }
   ],
   "source": [
    "len(combinations)"
   ]
  },
  {
   "cell_type": "code",
   "execution_count": 7,
   "id": "0e7301c9-cc1f-4963-9dca-9c816535f925",
   "metadata": {},
   "outputs": [
    {
     "name": "stdout",
     "output_type": "stream",
     "text": [
      "[('SUBMITTED', 'PARTLY SUBMITTED'), ('SUBMITTED', 'PREACCEPTED'), ('SUBMITTED', 'ACCEPTED'), ('SUBMITTED', 'SELECTED'), ('SUBMITTED', 'FINALIZED'), ('SUBMITTED', 'CREATED'), ('SUBMITTED', 'SENT'), ('SUBMITTED', 'SENT back'), ('SUBMITTED', 'REGISTERED'), ('SUBMITTED', 'APPROVED')]\n"
     ]
    }
   ],
   "source": [
    "print(combinations[0:10])"
   ]
  },
  {
   "cell_type": "code",
   "execution_count": 8,
   "id": "f09af188-cbd2-4f95-8a78-d2f894c424f5",
   "metadata": {},
   "outputs": [],
   "source": [
    "combinations = pd.DataFrame(combinations)\n"
   ]
  },
  {
   "cell_type": "code",
   "execution_count": 9,
   "id": "8e22721a-903b-426b-8f0b-7b62127721ab",
   "metadata": {},
   "outputs": [],
   "source": [
    "combinations.rename(columns={0: 'label1', \n",
    "                           1: 'label2'}, inplace=True)\n"
   ]
  },
  {
   "cell_type": "code",
   "execution_count": 10,
   "id": "ce6fc7d9-602c-4103-a084-d48f00a9ea50",
   "metadata": {},
   "outputs": [
    {
     "data": {
      "text/html": [
       "<div>\n",
       "<style scoped>\n",
       "    .dataframe tbody tr th:only-of-type {\n",
       "        vertical-align: middle;\n",
       "    }\n",
       "\n",
       "    .dataframe tbody tr th {\n",
       "        vertical-align: top;\n",
       "    }\n",
       "\n",
       "    .dataframe thead th {\n",
       "        text-align: right;\n",
       "    }\n",
       "</style>\n",
       "<table border=\"1\" class=\"dataframe\">\n",
       "  <thead>\n",
       "    <tr style=\"text-align: right;\">\n",
       "      <th></th>\n",
       "      <th>label1</th>\n",
       "      <th>label2</th>\n",
       "    </tr>\n",
       "  </thead>\n",
       "  <tbody>\n",
       "    <tr>\n",
       "      <th>0</th>\n",
       "      <td>SUBMITTED</td>\n",
       "      <td>PARTLY SUBMITTED</td>\n",
       "    </tr>\n",
       "    <tr>\n",
       "      <th>1</th>\n",
       "      <td>SUBMITTED</td>\n",
       "      <td>PREACCEPTED</td>\n",
       "    </tr>\n",
       "    <tr>\n",
       "      <th>2</th>\n",
       "      <td>SUBMITTED</td>\n",
       "      <td>ACCEPTED</td>\n",
       "    </tr>\n",
       "    <tr>\n",
       "      <th>3</th>\n",
       "      <td>SUBMITTED</td>\n",
       "      <td>SELECTED</td>\n",
       "    </tr>\n",
       "    <tr>\n",
       "      <th>4</th>\n",
       "      <td>SUBMITTED</td>\n",
       "      <td>FINALIZED</td>\n",
       "    </tr>\n",
       "  </tbody>\n",
       "</table>\n",
       "</div>"
      ],
      "text/plain": [
       "      label1            label2\n",
       "0  SUBMITTED  PARTLY SUBMITTED\n",
       "1  SUBMITTED       PREACCEPTED\n",
       "2  SUBMITTED          ACCEPTED\n",
       "3  SUBMITTED          SELECTED\n",
       "4  SUBMITTED         FINALIZED"
      ]
     },
     "execution_count": 10,
     "metadata": {},
     "output_type": "execute_result"
    }
   ],
   "source": [
    "combinations.head()"
   ]
  },
  {
   "cell_type": "code",
   "execution_count": 40,
   "id": "21d7c56f-fce2-4de8-965d-40bea4269aef",
   "metadata": {},
   "outputs": [],
   "source": [
    "combinations.to_csv('label_combinations.csv')"
   ]
  },
  {
   "cell_type": "code",
   "execution_count": 41,
   "id": "aad1ea5b-e5f7-4c2e-8ee2-6d7ad9beeffa",
   "metadata": {},
   "outputs": [
    {
     "data": {
      "text/plain": [
       "'/home/jupyter-sturm'"
      ]
     },
     "execution_count": 41,
     "metadata": {},
     "output_type": "execute_result"
    }
   ],
   "source": [
    "os.getcwd()"
   ]
  },
  {
   "cell_type": "code",
   "execution_count": null,
   "id": "ec7b58c7-d6c8-4c0f-b577-8353a43ff2db",
   "metadata": {},
   "outputs": [],
   "source": []
  }
 ],
 "metadata": {
  "kernelspec": {
   "display_name": "Python 3 (ipykernel)",
   "language": "python",
   "name": "python3"
  },
  "language_info": {
   "codemirror_mode": {
    "name": "ipython",
    "version": 3
   },
   "file_extension": ".py",
   "mimetype": "text/x-python",
   "name": "python",
   "nbconvert_exporter": "python",
   "pygments_lexer": "ipython3",
   "version": "3.9.7"
  }
 },
 "nbformat": 4,
 "nbformat_minor": 5
}
