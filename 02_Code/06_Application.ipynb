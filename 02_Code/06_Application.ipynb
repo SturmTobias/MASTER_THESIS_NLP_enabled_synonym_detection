{
 "cells": [
  {
   "cell_type": "code",
   "execution_count": 3,
   "id": "999dfbe3-02d2-4f45-a8e8-4ae23f2503f8",
   "metadata": {},
   "outputs": [],
   "source": [
    "from sentence_transformers import SentenceTransformer, util\n",
    "\n",
    "model_path = '/home/jupyter-sturm/output/SNLI_trained_model/SNLI_bert-base-uncased-2022-03-29_18-14-06'\n",
    "#model = SentenceTransformer('all-MiniLM-L6-v2')\n",
    "model = SentenceTransformer(model_path)"
   ]
  },
  {
   "cell_type": "code",
   "execution_count": 4,
   "id": "e232323d-f98f-454e-853c-ce296416d00e",
   "metadata": {},
   "outputs": [],
   "source": [
    "import pandas as pd\n"
   ]
  },
  {
   "cell_type": "code",
   "execution_count": 11,
   "id": "e302d759-7472-41c0-9f44-ab84b7727b64",
   "metadata": {},
   "outputs": [],
   "source": [
    "csv_path = '/home/jupyter-sturm/datasets/input.csv'\n",
    "df = pd.read_csv(csv_path)"
   ]
  },
  {
   "cell_type": "code",
   "execution_count": 19,
   "id": "876b57ee-4e38-490e-b44c-2bfb26e16409",
   "metadata": {},
   "outputs": [],
   "source": [
    "sentences = list(df['labels'])"
   ]
  },
  {
   "cell_type": "code",
   "execution_count": 20,
   "id": "eb72bc26-7387-40cd-b9f2-3d92ae87eaa0",
   "metadata": {},
   "outputs": [
    {
     "name": "stdout",
     "output_type": "stream",
     "text": [
      "['zahlungsbetrag verringert', 'zahlungsbetrag eingefügt', 'zahlung zahlungslieferung abgeschlossen', 'zahlung visumspflichtig', 'zahlung visum abgelehnt', 'zahlung storno', 'zahlung storniert', 'zahlung schadenobjekt in sap', 'zahlung pendent', 'zahlung in batchverarbeitung', 'zahlung freigegeben zur buchung', 'zahlung freigegeben', 'zahlung angelegt', 'zahlung abgeschlossen', 'visum für zahlung erteilt', 'visum für zahlung angefragt', 'visum für zahlung abgelehnt', 'visum für rückstellung erteilt', 'visum für rückstellung erteilt', 'visum für rückstellung angefragt', 'visum für rückstellung abgelehnt', 'visum für deckung erteilt', 'visum für deckung angefragt', 'visum für deckung abgelehnt', 'rückstellungsbetrag verringert', 'rückstellungsbetrag geändert', 'rückstellungsbetrag erhöht', 'rückstellungsbetrag eingefügt', 'rückstellungsbetrag ausgebucht', 'rückstellungsbetrag auf 0 gesetzt', 'regress zahlungsbetrag eingefügt', 'regress zahlung zahlungslieferung abgeschlossen', 'regress zahlung visumspflichtig', 'regress zahlung visum abgelehnt', 'regress zahlung storno', 'regress zahlung storniert', 'regress zahlung schadenobjekt in sap', 'regress zahlung pendent', 'regress zahlung in batchverarbeitung', 'regress zahlung freigegeben zur buchung', 'regress zahlung freigegeben', 'regress akontozahlung zahlungslieferung abgeschlossen', 'regress akontozahlung schadenobjekt in sap', 'regress akontozahlung pendent', 'regress akontozahlung in batchverarbeitung', 'regress akontozahlung freigegeben', 'mahnung versendet', 'fallübergabe zugeteilt', 'fallübergabe uebergabe_offen', 'fallübergabe in_zuteilung', 'fallübergabe in_uebergabe', 'fallübergabe abgelehnt', 'fallübergabe abgebrochen', 'erinnerungsschreiben verschickt', 'bvm fallübergabe zugeteilt_selbst_uebernommen', 'bvm fallübergabe zugeteilt', 'bvm fallübergabe uebernommen', 'bvm fallübergabe uebergabe_offen', 'bvm fallübergabe in_uebergabe', 'bvm fallübergabe abgelehnt', 'bvm fallübergabe abgebrochen', 'beleg teilausgeglichen', 'beleg ausgeglichen', 'auszahlung abgeschlossen', 'akontozahlung zahlungslieferung abgeschlossen', 'akontozahlung storniert', 'akontozahlung schadenobjekt in sap', 'akontozahlung pendent', 'akontozahlung in batchverarbeitung', 'akontozahlung freigegeben']\n"
     ]
    }
   ],
   "source": [
    "print(sentences)"
   ]
  },
  {
   "cell_type": "code",
   "execution_count": 2,
   "id": "98e551f5-8aaf-46b8-bc17-db407ebf644d",
   "metadata": {},
   "outputs": [],
   "source": [
    "sentences = ['The cat sits outside',\n",
    "             'A man is playing guitar',\n",
    "             'I love pasta',\n",
    "             'The new movie is awesome',\n",
    "             'The cat plays in the garden',\n",
    "             'A woman watches TV',\n",
    "             'The new movie is so great',\n",
    "             'Do you like pizza?']\n",
    "\n"
   ]
  },
  {
   "cell_type": "code",
   "execution_count": 3,
   "id": "689888c3-527b-4b01-bd04-a440644bc062",
   "metadata": {},
   "outputs": [
    {
     "name": "stdout",
     "output_type": "stream",
     "text": [
      "['The cat sits outside', 'A man is playing guitar', 'I love pasta', 'The new movie is awesome', 'The cat plays in the garden', 'A woman watches TV', 'The new movie is so great', 'Do you like pizza?']\n"
     ]
    }
   ],
   "source": [
    "print(sentences)"
   ]
  },
  {
   "cell_type": "code",
   "execution_count": 22,
   "id": "2a198571-d919-4e05-8d62-044c53f67c85",
   "metadata": {},
   "outputs": [],
   "source": [
    "#Compute embeddings\n",
    "embeddings = model.encode(sentences, convert_to_tensor=True)\n",
    "\n",
    "\n",
    "#embeddings = semantic_search_model.encode(sentences, batch_size=batch_size, convert_to_tensor=True)"
   ]
  },
  {
   "cell_type": "code",
   "execution_count": 23,
   "id": "0fb87f38-41a3-4c1d-82b8-a7b7f72be8ff",
   "metadata": {},
   "outputs": [
    {
     "name": "stdout",
     "output_type": "stream",
     "text": [
      "tensor([[-0.8360,  0.3845,  0.8369,  ..., -0.5831,  0.2436, -0.2275],\n",
      "        [-0.7607,  0.4455,  0.6440,  ..., -0.6207,  0.4191, -0.4787],\n",
      "        [-0.6319,  0.6109,  0.7395,  ..., -0.8955,  0.2352, -0.2842],\n",
      "        ...,\n",
      "        [-0.5311,  0.6493,  0.4529,  ..., -0.4863,  0.4402, -0.0217],\n",
      "        [-0.7497,  0.5687,  0.4551,  ..., -0.4824,  0.3231,  0.0341],\n",
      "        [-0.6567,  0.6097,  0.6419,  ..., -0.7572,  0.5005, -0.0517]],\n",
      "       device='cuda:0')\n"
     ]
    }
   ],
   "source": [
    "print(embeddings)"
   ]
  },
  {
   "cell_type": "code",
   "execution_count": 24,
   "id": "d4f97312-7666-4f4b-952a-821668398fd1",
   "metadata": {},
   "outputs": [],
   "source": [
    "#Compute cosine-similarities for each sentence with each other sentence\n",
    "cosine_scores = util.cos_sim(embeddings, embeddings)\n"
   ]
  },
  {
   "cell_type": "code",
   "execution_count": 25,
   "id": "a448ac9d-faa1-4a5b-ac34-b2c3e058f9fe",
   "metadata": {},
   "outputs": [
    {
     "name": "stdout",
     "output_type": "stream",
     "text": [
      "tensor([[1.0000, 0.9646, 0.9715,  ..., 0.9201, 0.9356, 0.9482],\n",
      "        [0.9646, 1.0000, 0.9625,  ..., 0.8571, 0.8785, 0.9412],\n",
      "        [0.9715, 0.9625, 1.0000,  ..., 0.8969, 0.9116, 0.9508],\n",
      "        ...,\n",
      "        [0.9201, 0.8571, 0.8969,  ..., 1.0000, 0.9786, 0.9239],\n",
      "        [0.9356, 0.8785, 0.9116,  ..., 0.9786, 1.0000, 0.9326],\n",
      "        [0.9482, 0.9412, 0.9508,  ..., 0.9239, 0.9326, 1.0000]],\n",
      "       device='cuda:0')\n"
     ]
    }
   ],
   "source": [
    "print(cosine_scores)"
   ]
  },
  {
   "cell_type": "code",
   "execution_count": 27,
   "id": "156e9a59-4000-462f-81b2-08df69284623",
   "metadata": {},
   "outputs": [],
   "source": [
    "#Find the pairs with the highest cosine similarity scores\n",
    "pairs = []\n",
    "for i in range(len(cosine_scores)-1):\n",
    "    for j in range(i+1, len(cosine_scores)):\n",
    "        pairs.append({'index': [i, j], 'score': cosine_scores[i][j]})"
   ]
  },
  {
   "cell_type": "code",
   "execution_count": 30,
   "id": "f785e579-a93e-4963-a85e-4a40d13b1aab",
   "metadata": {},
   "outputs": [],
   "source": [
    "#Sort scores in decreasing order\n",
    "pairs = sorted(pairs, key=lambda x: x['score'], reverse=True)"
   ]
  },
  {
   "cell_type": "code",
   "execution_count": 31,
   "id": "a204ea8a-967b-4e96-985c-0a4c94a120c7",
   "metadata": {},
   "outputs": [
    {
     "name": "stdout",
     "output_type": "stream",
     "text": [
      "visum für rückstellung erteilt \t\t visum für rückstellung erteilt \t\t Score: 1.0000\n",
      "fallübergabe abgelehnt \t\t bvm fallübergabe abgelehnt \t\t Score: 0.9965\n",
      "fallübergabe abgebrochen \t\t bvm fallübergabe abgebrochen \t\t Score: 0.9957\n",
      "regress zahlung storno \t\t regress zahlung storniert \t\t Score: 0.9952\n",
      "fallübergabe uebergabe_offen \t\t bvm fallübergabe uebergabe_offen \t\t Score: 0.9929\n",
      "zahlung visum abgelehnt \t\t regress zahlung visum abgelehnt \t\t Score: 0.9928\n",
      "fallübergabe zugeteilt \t\t bvm fallübergabe zugeteilt \t\t Score: 0.9919\n",
      "rückstellungsbetrag verringert \t\t rückstellungsbetrag geändert \t\t Score: 0.9914\n",
      "regress akontozahlung zahlungslieferung abgeschlossen \t\t akontozahlung zahlungslieferung abgeschlossen \t\t Score: 0.9913\n",
      "visum für zahlung erteilt \t\t visum für zahlung abgelehnt \t\t Score: 0.9913\n"
     ]
    }
   ],
   "source": [
    "for pair in pairs[0:10]:\n",
    "    i, j = pair['index']\n",
    "    print(\"{} \\t\\t {} \\t\\t Score: {:.4f}\".format(sentences[i], sentences[j], pair['score']))"
   ]
  },
  {
   "cell_type": "code",
   "execution_count": null,
   "id": "871b3f3d-644a-4c2d-92dd-078ec626bf8e",
   "metadata": {},
   "outputs": [],
   "source": []
  }
 ],
 "metadata": {
  "kernelspec": {
   "display_name": "Python 3 (ipykernel)",
   "language": "python",
   "name": "python3"
  },
  "language_info": {
   "codemirror_mode": {
    "name": "ipython",
    "version": 3
   },
   "file_extension": ".py",
   "mimetype": "text/x-python",
   "name": "python",
   "nbconvert_exporter": "python",
   "pygments_lexer": "ipython3",
   "version": "3.9.7"
  }
 },
 "nbformat": 4,
 "nbformat_minor": 5
}
