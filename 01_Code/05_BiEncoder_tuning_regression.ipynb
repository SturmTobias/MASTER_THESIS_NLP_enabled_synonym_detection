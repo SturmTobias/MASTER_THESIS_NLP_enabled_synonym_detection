{
 "cells": [
  {
   "cell_type": "code",
   "execution_count": null,
   "id": "a36fa02a-890d-4a22-89ec-045a7511d04e",
   "metadata": {},
   "outputs": [],
   "source": [
    "# In this notebook the code for fine-tuning the bi-encoder is provided"
   ]
  },
  {
   "cell_type": "code",
   "execution_count": null,
   "id": "ac2ae992-767d-4a20-9526-b84e677aef0f",
   "metadata": {},
   "outputs": [],
   "source": [
    "from torch.utils.data import DataLoader\n",
    "from sentence_transformers import models, losses, util, LoggingHandler, SentenceTransformer, evaluation\n",
    "from sentence_transformers.cross_encoder import CrossEncoder\n",
    "from sentence_transformers.cross_encoder.evaluation import CECorrelationEvaluator\n",
    "from sentence_transformers.evaluation import EmbeddingSimilarityEvaluator, BinaryClassificationEvaluator\n",
    "from sentence_transformers.readers import InputExample\n",
    "from datetime import datetime\n",
    "from zipfile import ZipFile\n",
    "import logging\n",
    "import csv\n",
    "import sys\n",
    "import torch\n",
    "import math\n",
    "import gzip\n",
    "import os"
   ]
  },
  {
   "cell_type": "code",
   "execution_count": null,
   "id": "fc13aa6f-c623-4686-aaba-a438178f32cb",
   "metadata": {},
   "outputs": [],
   "source": [
    "#### Just some code to print debug information to stdout\n",
    "logging.basicConfig(format='%(asctime)s - %(message)s',\n",
    "                    datefmt='%Y-%m-%d %H:%M:%S',\n",
    "                    level=logging.INFO,\n",
    "                    handlers=[LoggingHandler()])\n",
    "#### /print debug information to stdout\n",
    "\n"
   ]
  },
  {
   "cell_type": "markdown",
   "id": "97e5634f-80aa-42f0-8bb1-1a5777a76de3",
   "metadata": {},
   "source": [
    "## Read and prepare data sets"
   ]
  },
  {
   "cell_type": "code",
   "execution_count": null,
   "id": "4c69bb19-0185-4c26-808d-6466a555a0af",
   "metadata": {},
   "outputs": [],
   "source": [
    "dataset_path = '' # specify path to training, dev, and test data sets  \n",
    "\n",
    "######### Read data and convert it to PyTorch dataloader ##########\n",
    "\n",
    "logging.info(\"Reading {} train dataset\".format('scored_pairs'))\n",
    "\n",
    "# Read train data\n",
    "train_samples = []\n",
    "with open(os.path.join(dataset_path, \"train.csv\"), encoding='utf8') as fIn:\n",
    "    reader = csv.DictReader(fIn, delimiter=',', quoting=csv.QUOTE_NONE)\n",
    "    for row in reader:\n",
    "        sample = InputExample(texts=[row['label1'], row['label2']], label=float(row['score']))\n",
    "        train_samples.append(sample)\n",
    "\n",
    "\n",
    "# Read dev data\n",
    "dev_samples = []\n",
    "with open(os.path.join(dataset_path, \"dev.csv\"), encoding='utf8') as fIn:\n",
    "    reader = csv.DictReader(fIn, delimiter=',', quoting=csv.QUOTE_NONE)\n",
    "    for row in reader:\n",
    "        sample = InputExample(texts=[row['label1'], row['label2']], label=float(row['score']))\n",
    "        dev_samples.append(sample)\n",
    "        \n",
    "# Read test data\n",
    "test_samples = []\n",
    "with open(os.path.join(dataset_path, \"test.csv\"), encoding='utf8') as fIn:\n",
    "    reader = csv.DictReader(fIn, delimiter=',', quoting=csv.QUOTE_NONE)\n",
    "    for row in reader:\n",
    "        sample = InputExample(texts=[row['label1'], row['label2']], label=float(row['score']))\n",
    "        test_samples.append(sample)\n",
    "\n",
    "# Convert the dataset to DataLoaders ready for training\n",
    "logging.info(\"Initializing Dataloaders for training\")\n",
    "\n",
    "batch_size = 16\n",
    "train_dataloader = DataLoader(train_samples, shuffle=True, batch_size=batch_size)\n"
   ]
  },
  {
   "cell_type": "markdown",
   "id": "396d5a20-8fa5-4c63-bb43-82ef646d7148",
   "metadata": {},
   "source": [
    "## Specifying the model and save paths"
   ]
  },
  {
   "cell_type": "code",
   "execution_count": null,
   "id": "44a04cd2-bc28-4348-be51-99fce885d056",
   "metadata": {},
   "outputs": [],
   "source": [
    "#Selecting pre-trained model 'bert-base-uncased' from SentenceTransformers library\n",
    "model_name = 'bert-base-uncased' \n",
    "num_epochs = 5\n",
    "max_seq_length = 128\n",
    "use_cuda = torch.cuda.is_available()\n",
    "\n",
    "trained_model_save_path = 'output/'+model_name.replace(\"/\", \"-\")+'-'+datetime.now().strftime(\"%Y-%m-%d_%H-%M-%S\")\n"
   ]
  },
  {
   "cell_type": "code",
   "execution_count": null,
   "id": "af945e30-5f77-441b-a673-824d96e94593",
   "metadata": {},
   "outputs": [],
   "source": [
    "###### Model architecture ######\n",
    "\n",
    "logging.info(\"Loading model: {}\".format(model_name))\n",
    "\n",
    "# Use transformers model BERT for mapping tokens to embeddings\n",
    "word_embedding_model = models.Transformer(model_name, max_seq_length=max_seq_length)\n",
    "\n",
    "# Apply mean pooling to get one fixed sized sentence vector\n",
    "pooling_model = models.Pooling(word_embedding_model.get_word_embedding_dimension(),\n",
    "                               pooling_mode_mean_tokens=True,\n",
    "                               pooling_mode_cls_token=False,\n",
    "                               pooling_mode_max_tokens=False)\n",
    "\n",
    "# Compiling the model\n",
    "model = SentenceTransformer(modules=[word_embedding_model, pooling_model])"
   ]
  },
  {
   "cell_type": "code",
   "execution_count": null,
   "id": "2165b038-bc9c-46f6-a147-7ef068d7dbe8",
   "metadata": {},
   "outputs": [],
   "source": [
    "print(model)"
   ]
  },
  {
   "cell_type": "markdown",
   "id": "3d3f279f-0db8-441c-802f-8dae4d6e0454",
   "metadata": {},
   "source": [
    "## Development of Evaluator"
   ]
  },
  {
   "cell_type": "code",
   "execution_count": null,
   "id": "a7d22cb5-650c-4aa5-bf87-73430dc0cd6c",
   "metadata": {},
   "outputs": [],
   "source": [
    "###### Specifing loss function and evaluator ######\n",
    "\n",
    "train_loss = losses.CosineSimilarityLoss(model=model)\n",
    "  \n",
    "evaluator = EmbeddingSimilarityEvaluator.from_input_examples(dev_samples)     "
   ]
  },
  {
   "cell_type": "markdown",
   "id": "129b296a-9d2e-4b2b-b3a1-1f555d21a22b",
   "metadata": {},
   "source": [
    "## Configure training"
   ]
  },
  {
   "cell_type": "code",
   "execution_count": null,
   "id": "9bb38298-94f3-4c58-9ed8-6d3558d20197",
   "metadata": {},
   "outputs": [],
   "source": [
    "# Configure the training.\n",
    "warmup_steps = math.ceil(len(train_dataloader) * num_epochs * 0.1) #10% of train data for warm-up\n",
    "logging.info(\"Warmup-steps: {}\".format(warmup_steps))\n",
    "\n",
    "# Train the bi-encoder model\n",
    "model.fit(train_objectives=[(train_dataloader, train_loss)],\n",
    "          evaluator=evaluator,\n",
    "          epochs=num_epochs,\n",
    "          evaluation_steps=1000,\n",
    "          warmup_steps=warmup_steps,\n",
    "          output_path=trained_model_save_path\n",
    "          )"
   ]
  },
  {
   "cell_type": "markdown",
   "id": "45201b0b-3bbd-4f3a-924a-dce9d43cae6f",
   "metadata": {},
   "source": [
    "## Evaluating the model on test data set"
   ]
  },
  {
   "cell_type": "code",
   "execution_count": null,
   "id": "d7a8b9e2-ddab-4ed0-b0db-560499dd566c",
   "metadata": {},
   "outputs": [],
   "source": [
    "# Loading the fine-tuned model\n",
    "trained_model = SentenceTransformer(trained_model_save_path)\n",
    "\n",
    "test_evaluator = EmbeddingSimilarityEvaluator.from_input_examples(test_samples)\n",
    "trained_model.evaluate(test_evaluator)"
   ]
  },
  {
   "cell_type": "code",
   "execution_count": null,
   "id": "66f41a3a-afb3-47e7-b531-7d9bd2896636",
   "metadata": {},
   "outputs": [],
   "source": []
  }
 ],
 "metadata": {
  "kernelspec": {
   "display_name": "Python 3 (ipykernel)",
   "language": "python",
   "name": "python3"
  },
  "language_info": {
   "codemirror_mode": {
    "name": "ipython",
    "version": 3
   },
   "file_extension": ".py",
   "mimetype": "text/x-python",
   "name": "python",
   "nbconvert_exporter": "python",
   "pygments_lexer": "ipython3",
   "version": "3.9.7"
  }
 },
 "nbformat": 4,
 "nbformat_minor": 5
}
