{
 "cells": [
  {
   "cell_type": "code",
   "execution_count": null,
   "id": "3b37a646-8540-4774-8e2d-9371b3ca960e",
   "metadata": {},
   "outputs": [],
   "source": [
    "# Now we will leverage the fine-tuned cross-encoder (03_CrossEncoder_tuning) to score the augmented activity label pairs "
   ]
  },
  {
   "cell_type": "code",
   "execution_count": 19,
   "id": "4f1e799d-e034-4ed2-a08f-9aa660272417",
   "metadata": {},
   "outputs": [],
   "source": [
    "from torch.utils.data import DataLoader\n",
    "from sentence_transformers import models, losses, util, LoggingHandler, SentenceTransformer\n",
    "from sentence_transformers.cross_encoder import CrossEncoder\n",
    "from sentence_transformers.cross_encoder.evaluation import CECorrelationEvaluator\n",
    "from sentence_transformers.evaluation import EmbeddingSimilarityEvaluator, BinaryClassificationEvaluator\n",
    "from sentence_transformers.readers import InputExample\n",
    "from datetime import datetime\n",
    "from zipfile import ZipFile\n",
    "import logging\n",
    "import csv\n",
    "import sys\n",
    "import torch\n",
    "import math\n",
    "import gzip\n",
    "import os\n",
    "import numpy as np"
   ]
  },
  {
   "cell_type": "code",
   "execution_count": 101,
   "id": "5cfbbcf2-eac4-42b2-b2ef-2c8bb7667b3c",
   "metadata": {},
   "outputs": [],
   "source": [
    "source_path = '' # specify source path of file with pairs that should be scored\n",
    "output_path = '' # specify output path for scored pairs"
   ]
  },
  {
   "cell_type": "code",
   "execution_count": null,
   "id": "2d3f85b9-cdf0-4490-acfb-6041a0f5db11",
   "metadata": {},
   "outputs": [],
   "source": [
    "##################################################################\n",
    "#\n",
    "# Score activity label pairs using the previously trained cross-encoder (BERT) model\n",
    "#\n",
    "##################################################################\n",
    "\n",
    "cross_encoder_path = '' #specify path to the fine-tuned cross-encoder\n",
    "\n",
    "#Loading the fine-tuned cross-encoder\n",
    "cross_encoder = CrossEncoder(cross_encoder_path)\n",
    "\n",
    "silver_data = []\n",
    "       \n",
    "with open(os.path.join(source_path), encoding='utf8') as fIn: \n",
    "    reader = csv.DictReader(fIn, delimiter=';', quoting=csv.QUOTE_NONE)\n",
    "    for row in reader: \n",
    "        silver_data.append([row['label1'], row['label2']])\n",
    "\n",
    "silver_scores = cross_encoder.predict(silver_data)\n",
    "\n",
    "# All model predictions should be between [0,1]\n",
    "assert all(0.0 <= score <= 1.0 for score in silver_scores)\n",
    "\n",
    "binary_silver_scores = [1 if score >= 0.7 else 0 for score in silver_scores] # If the retrieved scores should additionally be saved as binary classes, the thrershold needs to specified here."
   ]
  },
  {
   "cell_type": "code",
   "execution_count": 162,
   "id": "0a2317b7-1133-49ab-8ab4-45ac5ea4bfb2",
   "metadata": {},
   "outputs": [],
   "source": [
    "labels_scores_matched = list(zip(silver_data, silver_scores, binary_silver_scores))"
   ]
  },
  {
   "cell_type": "code",
   "execution_count": 163,
   "id": "7ba852af-8d96-430d-9990-3b7477e78dc5",
   "metadata": {},
   "outputs": [],
   "source": [
    "import pandas as pd\n",
    "df = pd.DataFrame(labels_scores_matched, columns = ['pair','score','annotation']) \n",
    "#df.to_csv('labels_matched.csv')"
   ]
  },
  {
   "cell_type": "code",
   "execution_count": 164,
   "id": "f9966488-45eb-44af-8604-93b0aa64b74a",
   "metadata": {},
   "outputs": [],
   "source": [
    "# Saving dataframe without duplicates as .csv file\n",
    "\n",
    "header = [\"pair\", \"score\", \"annotation\"]\n",
    "#df.to_csv('output.csv', columns = header)\n",
    "\n",
    "df.to_csv(output_path, sep=',', columns = header, header=True, index=False)# sep=';')"
   ]
  }
 ],
 "metadata": {
  "kernelspec": {
   "display_name": "Python 3 (ipykernel)",
   "language": "python",
   "name": "python3"
  },
  "language_info": {
   "codemirror_mode": {
    "name": "ipython",
    "version": 3
   },
   "file_extension": ".py",
   "mimetype": "text/x-python",
   "name": "python",
   "nbconvert_exporter": "python",
   "pygments_lexer": "ipython3",
   "version": "3.9.7"
  }
 },
 "nbformat": 4,
 "nbformat_minor": 5
}
