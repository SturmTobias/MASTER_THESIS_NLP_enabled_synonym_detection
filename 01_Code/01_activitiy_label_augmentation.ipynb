{
 "cells": [
  {
   "cell_type": "code",
   "execution_count": 30,
   "id": "caea6c1f-0cab-424b-9f62-7668ab191b25",
   "metadata": {},
   "outputs": [],
   "source": [
    "# Using wordnet to determine n synonyms per activity label. Wordnet is comparable to a dictionary from which synonyms can be retrieved. \n",
    "# So each word within each single activity label is replaced by a synonym acording to wordnet. No semantic or contextual information processed. \n",
    "\n",
    "\n",
    "import nlpaug.augmenter.char as nac\n",
    "import nlpaug.augmenter.word as naw\n",
    "import nlpaug.augmenter.sentence as nas\n",
    "import nlpaug.flow as nafc\n",
    "from nlpaug.util import Action\n",
    "import nltk\n",
    "from nltk.corpus import wordnet\n",
    "import nltk\n",
    "import os\n",
    "import csv\n",
    "import pandas as pd\n",
    "import numpy as np"
   ]
  },
  {
   "cell_type": "code",
   "execution_count": 319,
   "id": "e86fc73a-f6e1-43de-a547-0675ca886376",
   "metadata": {},
   "outputs": [],
   "source": [
    "# Defining source and output directories\n",
    "source_path = '' #specify source path of csv file that should be augmented\n",
    "\n",
    "output_path = '' #specify output path where augmented file should be saved\n",
    "\n",
    "# Reading excel file with activity labels\n",
    "excel = pd.read_excel(source_path)\n",
    "excel.head()\n",
    "\n",
    "# Exporting activity labels from dataframe to a list\n",
    "text = excel['Label'].tolist()\n"
   ]
  },
  {
   "cell_type": "code",
   "execution_count": null,
   "id": "49f44ae9-07ed-4476-916a-af5b7cf991c3",
   "metadata": {},
   "outputs": [],
   "source": [
    "def input_labels(list_of_activity_labels):\n",
    "    print('The following activity labels were imported:')\n",
    "    for i in text:\n",
    "        print(i)\n",
    "    return\n",
    "\n",
    "input_labels(text)"
   ]
  },
  {
   "cell_type": "code",
   "execution_count": null,
   "id": "c5554804-c379-4086-8e76-1bef19c59f87",
   "metadata": {},
   "outputs": [],
   "source": [
    "# First attempts showed that quality of augmentations are better, when input strings are of lower cases only\n",
    "# Therefore converting all elements of input list into lower cases before inputting in augmenting engine\n",
    "\n",
    "text_cap = []\n",
    "for i in text:\n",
    "    without = i.lstrip()\n",
    "    capitalized = without.lower()\n",
    "    text_cap.append(capitalized)\n",
    "\n",
    "print(text_cap)"
   ]
  },
  {
   "cell_type": "code",
   "execution_count": 322,
   "id": "c8811d38-0516-440a-83a0-0deb8863cd13",
   "metadata": {},
   "outputs": [],
   "source": [
    "# Setting up the wordnet augmenting enginge and save it in var 'aug'\n",
    "aug = naw.SynonymAug(aug_src='wordnet')"
   ]
  },
  {
   "cell_type": "code",
   "execution_count": 328,
   "id": "18e8fd03-23d6-49e8-9731-cf5ee40929cb",
   "metadata": {},
   "outputs": [],
   "source": [
    "# Retrieving 10 synonymous activity labels per input activity label (n=10)\n",
    "augmented_text = []\n",
    "for i in text_cap:\n",
    "    augmented_text.append(aug.augment(i, n=10))\n"
   ]
  },
  {
   "cell_type": "code",
   "execution_count": null,
   "id": "a1106384-773a-469f-9883-7f4ad5893c6e",
   "metadata": {},
   "outputs": [],
   "source": [
    "# Flattening list of lists to get all unique activity labels as single elements\n",
    "augmented_unique = []\n",
    "for i in augmented_text:\n",
    "    for j in i:\n",
    "        augmented_unique.append(j)\n",
    "\n",
    "print('The list augmented_unique contains {} items'.format(len(augmented_unique)))"
   ]
  },
  {
   "cell_type": "code",
   "execution_count": null,
   "id": "5d07d9c4-b93e-4705-a872-618d9373aee9",
   "metadata": {},
   "outputs": [],
   "source": [
    "# Zipping the list of all input labels (text_cap) with the list of augmentations (augmented_unique)\n",
    "zipped = text_cap + augmented_unique"
   ]
  },
  {
   "cell_type": "code",
   "execution_count": null,
   "id": "dbf2d234-4078-4d0b-98ea-d6bbb653710a",
   "metadata": {},
   "outputs": [],
   "source": [
    "\n",
    "# Converting the zipped list into pandas dataframe and dropping out duplicates\n",
    "# since the augmenting enginge generates the same synonyms sometimes\n",
    "df = pd.DataFrame(zipped, columns = ['augmented_labels'])\n",
    "df_without_duplicates = df.drop_duplicates(subset=['augmented_labels'])\n",
    "df_without_duplicates\n"
   ]
  },
  {
   "cell_type": "code",
   "execution_count": 327,
   "id": "9b4aaa36-8a2e-48fc-83da-4f1ad16d06ff",
   "metadata": {},
   "outputs": [],
   "source": [
    "# Saving dataframe without duplicates as .csv file\n",
    "\n",
    "header = [\"augmented_labels\"]\n",
    "#df.to_csv('output.csv', columns = header)\n",
    "\n",
    "df_without_duplicates.to_csv(output_path, sep=';', columns = header, header=True, index=False)# sep=';')"
   ]
  }
 ],
 "metadata": {
  "kernelspec": {
   "display_name": "Python 3 (ipykernel)",
   "language": "python",
   "name": "python3"
  },
  "language_info": {
   "codemirror_mode": {
    "name": "ipython",
    "version": 3
   },
   "file_extension": ".py",
   "mimetype": "text/x-python",
   "name": "python",
   "nbconvert_exporter": "python",
   "pygments_lexer": "ipython3",
   "version": "3.9.7"
  }
 },
 "nbformat": 4,
 "nbformat_minor": 5
}
