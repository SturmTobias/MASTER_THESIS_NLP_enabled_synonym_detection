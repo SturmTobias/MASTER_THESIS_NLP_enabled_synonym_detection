{
 "cells": [
  {
   "cell_type": "code",
   "execution_count": 30,
   "id": "caea6c1f-0cab-424b-9f62-7668ab191b25",
   "metadata": {},
   "outputs": [],
   "source": [
    "# Using wordnet to determine n synonyms per activity label. Wordnet is comparable to a dictionary from which synonyms can be retrieved. \n",
    "# So each word within each single activity label is replaced by a synonym acording to wordnet. No semantic or contextual information processed. \n",
    "\n",
    "\n",
    "import nlpaug.augmenter.char as nac\n",
    "import nlpaug.augmenter.word as naw\n",
    "import nlpaug.augmenter.sentence as nas\n",
    "import nlpaug.flow as nafc\n",
    "from nlpaug.util import Action\n",
    "import nltk\n",
    "from nltk.corpus import wordnet\n",
    "import nltk\n",
    "import os\n",
    "import csv\n",
    "import pandas as pd\n",
    "import numpy as np"
   ]
  },
  {
   "cell_type": "code",
   "execution_count": 319,
   "id": "e86fc73a-f6e1-43de-a547-0675ca886376",
   "metadata": {},
   "outputs": [],
   "source": [
    "# Defining source and output directories\n",
    "#source_file = 'labels_BPIC13.xlsx'\n",
    "source_path = '' #specify source path of csv file that should be augmented\n",
    "\n",
    "#output_file = 'labels_BPIC13_aug.csv'\n",
    "output_path = '' #specify output path where augmented file should be saved\n",
    "\n",
    "# Reading excel file with activity labels\n",
    "excel = pd.read_excel(source_path)\n",
    "excel.head()\n",
    "\n",
    "# Exporting activity labels from dataframe to a list\n",
    "text = excel['Label'].tolist()\n"
   ]
  },
  {
   "cell_type": "code",
   "execution_count": null,
   "id": "49f44ae9-07ed-4476-916a-af5b7cf991c3",
   "metadata": {},
   "outputs": [],
   "source": [
    "def input_labels(list_of_activity_labels):\n",
    "    print('The following activity labels were imported:')\n",
    "    for i in text:\n",
    "        print(i)\n",
    "    return\n",
    "\n",
    "input_labels(text)"
   ]
  },
  {
   "cell_type": "code",
   "execution_count": null,
   "id": "c5554804-c379-4086-8e76-1bef19c59f87",
   "metadata": {},
   "outputs": [],
   "source": [
    "# First attempts showed that quality of augmentations are better, when input strings are of lower cases only\n",
    "# Therefore converting all elements of input list into lower cases before inputting in augmenting engine\n",
    "\n",
    "text_cap = []\n",
    "for i in text:\n",
    "    without = i.lstrip()\n",
    "    capitalized = without.lower()\n",
    "    text_cap.append(capitalized)\n",
    "\n",
    "print(text_cap)"
   ]
  },
  {
   "cell_type": "code",
   "execution_count": 322,
   "id": "c8811d38-0516-440a-83a0-0deb8863cd13",
   "metadata": {},
   "outputs": [],
   "source": [
    "# Setting up the wordnet augmenting enginge and save it in var 'aug'\n",
    "aug = naw.SynonymAug(aug_src='wordnet')"
   ]
  },
  {
   "cell_type": "code",
   "execution_count": 328,
   "id": "18e8fd03-23d6-49e8-9731-cf5ee40929cb",
   "metadata": {},
   "outputs": [],
   "source": [
    "# Retrieving 10 synonymous activity labels per input activity label (n=10)\n",
    "augmented_text = []\n",
    "for i in text_cap:\n",
    "    augmented_text.append(aug.augment(i, n=10))\n"
   ]
  },
  {
   "cell_type": "code",
   "execution_count": null,
   "id": "a1106384-773a-469f-9883-7f4ad5893c6e",
   "metadata": {},
   "outputs": [],
   "source": [
    "# Flattening list of lists to get all unique activity labels as single elements\n",
    "augmented_unique = []\n",
    "for i in augmented_text:\n",
    "    for j in i:\n",
    "        augmented_unique.append(j)\n",
    "\n",
    "print('The list augmented_unique contains {} items'.format(len(augmented_unique)))"
   ]
  },
  {
   "cell_type": "code",
   "execution_count": null,
   "id": "5d07d9c4-b93e-4705-a872-618d9373aee9",
   "metadata": {},
   "outputs": [],
   "source": [
    "# Zipping the list of all input labels (text_cap) with the list of augmentations (augmented_unique)\n",
    "zipped = text_cap + augmented_unique"
   ]
  },
  {
   "cell_type": "code",
   "execution_count": 326,
   "id": "dbf2d234-4078-4d0b-98ea-d6bbb653710a",
   "metadata": {},
   "outputs": [
    {
     "data": {
      "text/html": [
       "<div>\n",
       "<style scoped>\n",
       "    .dataframe tbody tr th:only-of-type {\n",
       "        vertical-align: middle;\n",
       "    }\n",
       "\n",
       "    .dataframe tbody tr th {\n",
       "        vertical-align: top;\n",
       "    }\n",
       "\n",
       "    .dataframe thead th {\n",
       "        text-align: right;\n",
       "    }\n",
       "</style>\n",
       "<table border=\"1\" class=\"dataframe\">\n",
       "  <thead>\n",
       "    <tr style=\"text-align: right;\">\n",
       "      <th></th>\n",
       "      <th>augmented_labels</th>\n",
       "    </tr>\n",
       "  </thead>\n",
       "  <tbody>\n",
       "    <tr>\n",
       "      <th>0</th>\n",
       "      <td>adjust confirmation of receipt</td>\n",
       "    </tr>\n",
       "    <tr>\n",
       "      <th>1</th>\n",
       "      <td>adjust document request unlicensed</td>\n",
       "    </tr>\n",
       "    <tr>\n",
       "      <th>2</th>\n",
       "      <td>adjust report to stop indicition</td>\n",
       "    </tr>\n",
       "    <tr>\n",
       "      <th>3</th>\n",
       "      <td>check confirmation of receipt</td>\n",
       "    </tr>\n",
       "    <tr>\n",
       "      <th>4</th>\n",
       "      <td>check document request unlicensed</td>\n",
       "    </tr>\n",
       "    <tr>\n",
       "      <th>...</th>\n",
       "      <td>...</td>\n",
       "    </tr>\n",
       "    <tr>\n",
       "      <th>461</th>\n",
       "      <td>report reasons to hold in postulation</td>\n",
       "    </tr>\n",
       "    <tr>\n",
       "      <th>463</th>\n",
       "      <td>check of receipt</td>\n",
       "    </tr>\n",
       "    <tr>\n",
       "      <th>464</th>\n",
       "      <td>confirmation of reception</td>\n",
       "    </tr>\n",
       "    <tr>\n",
       "      <th>470</th>\n",
       "      <td>ratification of receipt</td>\n",
       "    </tr>\n",
       "    <tr>\n",
       "      <th>474</th>\n",
       "      <td>verification of receipt</td>\n",
       "    </tr>\n",
       "  </tbody>\n",
       "</table>\n",
       "<p>317 rows × 1 columns</p>\n",
       "</div>"
      ],
      "text/plain": [
       "                          augmented_labels\n",
       "0           adjust confirmation of receipt\n",
       "1       adjust document request unlicensed\n",
       "2         adjust report to stop indicition\n",
       "3            check confirmation of receipt\n",
       "4        check document request unlicensed\n",
       "..                                     ...\n",
       "461  report reasons to hold in postulation\n",
       "463                       check of receipt\n",
       "464              confirmation of reception\n",
       "470                ratification of receipt\n",
       "474                verification of receipt\n",
       "\n",
       "[317 rows x 1 columns]"
      ]
     },
     "execution_count": 326,
     "metadata": {},
     "output_type": "execute_result"
    }
   ],
   "source": [
    "\n",
    "# Converting the zipped list into pandas dataframe and dropping out duplicates\n",
    "# since the augmenting enginge generates the same synonyms sometimes\n",
    "df = pd.DataFrame(zipped, columns = ['augmented_labels'])\n",
    "df_without_duplicates = df.drop_duplicates(subset=['augmented_labels'])\n",
    "df_without_duplicates\n"
   ]
  },
  {
   "cell_type": "code",
   "execution_count": 327,
   "id": "9b4aaa36-8a2e-48fc-83da-4f1ad16d06ff",
   "metadata": {},
   "outputs": [],
   "source": [
    "# Saving dataframe without duplicates as .csv file\n",
    "\n",
    "header = [\"augmented_labels\"]\n",
    "#df.to_csv('output.csv', columns = header)\n",
    "\n",
    "df_without_duplicates.to_csv(output_path, sep=';', columns = header, header=True, index=False)# sep=';')"
   ]
  },
  {
   "cell_type": "code",
   "execution_count": null,
   "id": "23974813-d730-4df3-9c66-508756b108d0",
   "metadata": {},
   "outputs": [],
   "source": []
  },
  {
   "cell_type": "code",
   "execution_count": null,
   "id": "55955236-ac2d-4132-a1a5-690b7ccb9410",
   "metadata": {},
   "outputs": [],
   "source": []
  }
 ],
 "metadata": {
  "kernelspec": {
   "display_name": "Python 3 (ipykernel)",
   "language": "python",
   "name": "python3"
  },
  "language_info": {
   "codemirror_mode": {
    "name": "ipython",
    "version": 3
   },
   "file_extension": ".py",
   "mimetype": "text/x-python",
   "name": "python",
   "nbconvert_exporter": "python",
   "pygments_lexer": "ipython3",
   "version": "3.9.7"
  }
 },
 "nbformat": 4,
 "nbformat_minor": 5
}
