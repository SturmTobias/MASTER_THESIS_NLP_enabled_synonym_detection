{
 "cells": [
  {
   "cell_type": "code",
   "execution_count": 13,
   "id": "a36fa02a-890d-4a22-89ec-045a7511d04e",
   "metadata": {},
   "outputs": [],
   "source": [
    "# This notebook provides the code to simply download BERT and evaluate the model on a specified test data set without any fine-tuning activities"
   ]
  },
  {
   "cell_type": "code",
   "execution_count": 1,
   "id": "0277baab-5efd-43a0-9270-5e46675db0ae",
   "metadata": {},
   "outputs": [],
   "source": [
    "from torch.utils.data import DataLoader\n",
    "from sentence_transformers import models, losses, util, LoggingHandler, SentenceTransformer, evaluation\n",
    "from sentence_transformers.cross_encoder import CrossEncoder\n",
    "from sentence_transformers.cross_encoder.evaluation import CECorrelationEvaluator\n",
    "from sentence_transformers.evaluation import EmbeddingSimilarityEvaluator, BinaryClassificationEvaluator\n",
    "from sentence_transformers.readers import InputExample\n",
    "from datetime import datetime\n",
    "from zipfile import ZipFile\n",
    "import logging\n",
    "import csv\n",
    "import sys\n",
    "import torch\n",
    "import math\n",
    "import gzip\n",
    "import os"
   ]
  },
  {
   "cell_type": "code",
   "execution_count": 2,
   "id": "fc13aa6f-c623-4686-aaba-a438178f32cb",
   "metadata": {},
   "outputs": [],
   "source": [
    "#### Just some code to print debug information to stdout\n",
    "logging.basicConfig(format='%(asctime)s - %(message)s',\n",
    "                    datefmt='%Y-%m-%d %H:%M:%S',\n",
    "                    level=logging.INFO,\n",
    "                    handlers=[LoggingHandler()])\n",
    "#### /print debug information to stdout\n"
   ]
  },
  {
   "cell_type": "markdown",
   "id": "97e5634f-80aa-42f0-8bb1-1a5777a76de3",
   "metadata": {},
   "source": [
    "## Read and prepare data sets"
   ]
  },
  {
   "cell_type": "code",
   "execution_count": null,
   "id": "4c69bb19-0185-4c26-808d-6466a555a0af",
   "metadata": {},
   "outputs": [],
   "source": [
    "dataset_path = '/home/jupyter-sturm/datasets/Eventlogs/Split' # specify path to test data set\n",
    "\n",
    "######### Read train data  ##########\n",
    "\n",
    "logging.info(\"Reading {} \".format('test data'))\n",
    "\n",
    "        \n",
    "# Read test data\n",
    "test_samples = []\n",
    "with open(os.path.join(dataset_path, \"test.csv\"), encoding='utf8') as fIn:\n",
    "    reader = csv.DictReader(fIn, delimiter=',', quoting=csv.QUOTE_NONE)\n",
    "    for row in reader:\n",
    "        sample = InputExample(texts=[row['label1'], row['label2']], label=float(row['score']))\n",
    "        test_samples.append(sample)\n"
   ]
  },
  {
   "cell_type": "markdown",
   "id": "396d5a20-8fa5-4c63-bb43-82ef646d7148",
   "metadata": {},
   "source": [
    "## Specifying the model"
   ]
  },
  {
   "cell_type": "code",
   "execution_count": 7,
   "id": "44a04cd2-bc28-4348-be51-99fce885d056",
   "metadata": {},
   "outputs": [],
   "source": [
    "model_name = 'bert-base-uncased' # Specifying the BERT model in its base version\n",
    "max_seq_length = 128\n",
    "use_cuda = torch.cuda.is_available()"
   ]
  },
  {
   "cell_type": "code",
   "execution_count": null,
   "id": "af945e30-5f77-441b-a673-824d96e94593",
   "metadata": {},
   "outputs": [],
   "source": [
    "###### Model architecture (sentence-transformers) ######\n",
    "\n",
    "logging.info(\"Loading model: {}\".format(model_name))\n",
    "\n",
    "# Use transformers model BERT for mapping tokens to embeddings\n",
    "word_embedding_model = models.Transformer(model_name, max_seq_length=max_seq_length)\n",
    "\n",
    "# Apply mean pooling to get one fixed sized sentence vector\n",
    "pooling_model = models.Pooling(word_embedding_model.get_word_embedding_dimension(),\n",
    "                               pooling_mode_mean_tokens=True,\n",
    "                               pooling_mode_cls_token=False,\n",
    "                               pooling_mode_max_tokens=False)\n",
    "\n",
    "# Compiling the model\n",
    "model = SentenceTransformer(modules=[word_embedding_model, pooling_model])"
   ]
  },
  {
   "cell_type": "code",
   "execution_count": null,
   "id": "2165b038-bc9c-46f6-a147-7ef068d7dbe8",
   "metadata": {},
   "outputs": [],
   "source": [
    "print(model)"
   ]
  },
  {
   "cell_type": "markdown",
   "id": "45201b0b-3bbd-4f3a-924a-dce9d43cae6f",
   "metadata": {},
   "source": [
    "## Evaluating the model on test data set"
   ]
  },
  {
   "cell_type": "code",
   "execution_count": null,
   "id": "d7a8b9e2-ddab-4ed0-b0db-560499dd566c",
   "metadata": {},
   "outputs": [],
   "source": [
    "logging.info(\"Read test dataset\")\n",
    "\n",
    "\n",
    "test_evaluator = EmbeddingSimilarityEvaluator.from_input_examples(test_samples)\n",
    "model.evaluate(test_evaluator)"
   ]
  }
 ],
 "metadata": {
  "kernelspec": {
   "display_name": "Python 3 (ipykernel)",
   "language": "python",
   "name": "python3"
  },
  "language_info": {
   "codemirror_mode": {
    "name": "ipython",
    "version": 3
   },
   "file_extension": ".py",
   "mimetype": "text/x-python",
   "name": "python",
   "nbconvert_exporter": "python",
   "pygments_lexer": "ipython3",
   "version": "3.9.7"
  }
 },
 "nbformat": 4,
 "nbformat_minor": 5
}
