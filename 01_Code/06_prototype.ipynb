{
 "cells": [
  {
   "cell_type": "code",
   "execution_count": 2,
   "id": "69ef54ff-5989-4b96-8612-71728cf7fee3",
   "metadata": {},
   "outputs": [],
   "source": [
    "# This notebook provides to code for the protopye including the fine-tuned model"
   ]
  },
  {
   "cell_type": "code",
   "execution_count": 136,
   "id": "130c0886-7650-4412-b637-2e6c12cc7292",
   "metadata": {},
   "outputs": [],
   "source": [
    "from sentence_transformers import SentenceTransformer, util\n",
    "import pandas as pd"
   ]
  },
  {
   "cell_type": "markdown",
   "id": "c2643473-09bf-4a59-98bd-fe1b1f9d91a6",
   "metadata": {},
   "source": [
    "### Specify the path to the fine-tuned model"
   ]
  },
  {
   "cell_type": "code",
   "execution_count": 145,
   "id": "beae604f-9485-41cb-b59b-fee7d5ba2325",
   "metadata": {},
   "outputs": [],
   "source": [
    "model_path = '' # path to model required\n",
    "\n",
    "model = SentenceTransformer(model_path)"
   ]
  },
  {
   "cell_type": "code",
   "execution_count": 146,
   "id": "fff9e273-3c34-4cea-a991-d20ab50122f8",
   "metadata": {},
   "outputs": [],
   "source": [
    "csv_path = '' # path to csv file with activity labels that should be scored\n",
    "df = pd.read_csv(csv_path)\n",
    "\n",
    "sentences = list(df['labels'])\n"
   ]
  },
  {
   "cell_type": "code",
   "execution_count": 147,
   "id": "17be0ff2-604f-4d22-bdb7-dc4cd4664e49",
   "metadata": {},
   "outputs": [],
   "source": [
    "#Compute embeddings\n",
    "embeddings = model.encode(sentences, convert_to_tensor=True)\n",
    "\n",
    "#Compute cosine-similarities for each sentence with each other sentence\n",
    "cosine_scores = util.cos_sim(embeddings, embeddings)\n",
    "\n",
    "#Find the pairs with the highest cosine similarity scores\n",
    "pairs = []\n",
    "for i in range(len(cosine_scores)-1):\n",
    "    for j in range(i+1, len(cosine_scores)):\n",
    "        pairs.append({'index': [i, j], 'score': cosine_scores[i][j]})"
   ]
  },
  {
   "cell_type": "code",
   "execution_count": 149,
   "id": "0c4f2b40-6e17-42db-b0b7-bddacecd23d7",
   "metadata": {},
   "outputs": [],
   "source": [
    "output_list = []"
   ]
  },
  {
   "cell_type": "code",
   "execution_count": 150,
   "id": "f3f7c82f-ea4f-42a2-9f8f-3e4ec9212d99",
   "metadata": {},
   "outputs": [],
   "source": [
    "for pair in pairs:\n",
    "    i, j = pair['index']\n",
    "    output_list.append(\"{}, {}, {:.4f}\".format(sentences[i], sentences[j], pair['score']))"
   ]
  },
  {
   "cell_type": "code",
   "execution_count": 151,
   "id": "718d3647-a3ba-4e65-9a25-a5f8f56e7422",
   "metadata": {},
   "outputs": [],
   "source": [
    "output_df = pd.DataFrame(output_list, columns = ['scores'])"
   ]
  },
  {
   "cell_type": "code",
   "execution_count": 153,
   "id": "2b126a76-bab3-4fd0-ad0d-e83b639e2a0e",
   "metadata": {},
   "outputs": [],
   "source": [
    "# Scores pairs are saved as output csv. Please specify output path\n",
    "\n",
    "output_path = ''\n",
    "output_df.to_csv(output_path+'output.csv')"
   ]
  }
 ],
 "metadata": {
  "kernelspec": {
   "display_name": "Python 3 (ipykernel)",
   "language": "python",
   "name": "python3"
  },
  "language_info": {
   "codemirror_mode": {
    "name": "ipython",
    "version": 3
   },
   "file_extension": ".py",
   "mimetype": "text/x-python",
   "name": "python",
   "nbconvert_exporter": "python",
   "pygments_lexer": "ipython3",
   "version": "3.9.7"
  }
 },
 "nbformat": 4,
 "nbformat_minor": 5
}
